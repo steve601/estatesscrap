{
 "cells": [
  {
   "cell_type": "markdown",
   "id": "804038af-2113-4238-be39-6984f6bc631a",
   "metadata": {},
   "source": [
    "### Importing libraries\n"
   ]
  },
  {
   "cell_type": "code",
   "execution_count": 1,
   "id": "e4adf299-e81c-4f44-96d1-e1255965056c",
   "metadata": {},
   "outputs": [],
   "source": [
    "from selenium import webdriver\n",
    "import time\n",
    "from selenium.webdriver.support.ui import WebDriverWait\n",
    "from selenium.webdriver.support import expected_conditions as EC\n",
    "from selenium.webdriver.chrome.service import Service\n",
    "from selenium.webdriver.common.by import By\n",
    "from bs4 import BeautifulSoup\n",
    "from selenium.webdriver.common.keys import Keys\n",
    "import pandas as pd"
   ]
  },
  {
   "cell_type": "markdown",
   "id": "76813129-0b5c-436e-895b-9171ef7d0892",
   "metadata": {},
   "source": [
    "### initializing driver in order to use selenium to navigate to the desired page\n"
   ]
  },
  {
   "cell_type": "code",
   "execution_count": 2,
   "id": "8f6fc22b-a29f-4532-97c6-21769ca3b5c6",
   "metadata": {},
   "outputs": [],
   "source": [
    "service = Service(executable_path=\"chromedriver.exe\")\n",
    "# let's initialize the driver\n",
    "driver = webdriver.Chrome(service=service)"
   ]
  },
  {
   "cell_type": "markdown",
   "id": "0db305e2-2574-4b77-b6b4-2057ecb64e70",
   "metadata": {},
   "source": [
    "### obtaining the target url"
   ]
  },
  {
   "cell_type": "code",
   "execution_count": 3,
   "id": "e9bf3284-c78a-4e33-beb9-d44b46be785c",
   "metadata": {},
   "outputs": [],
   "source": [
    "url = 'https://www.buyrentkenya.com/'\n",
    "driver.get(url)"
   ]
  },
  {
   "cell_type": "markdown",
   "id": "3d3c896a-6058-4d03-a51f-8d3da01601f4",
   "metadata": {},
   "source": [
    "### incase the cookie appears,driver automatically accepts"
   ]
  },
  {
   "cell_type": "code",
   "execution_count": 4,
   "id": "7dadee93-39d2-4504-929b-89567a793f3a",
   "metadata": {},
   "outputs": [],
   "source": [
    "cookie = driver.find_element(By.XPATH,\"//button[@id='onetrust-accept-btn-handler']\")"
   ]
  },
  {
   "cell_type": "code",
   "execution_count": 5,
   "id": "1e1727e9-5b67-4d61-b9a4-ddd698a3e787",
   "metadata": {},
   "outputs": [],
   "source": [
    "try:\n",
    "    cookie.click()\n",
    "except:\n",
    "    pass"
   ]
  },
  {
   "cell_type": "markdown",
   "id": "da3f304e-f7b9-4bcc-b67c-46953eb6e4d8",
   "metadata": {},
   "source": [
    "### navigating to the desired page\n"
   ]
  },
  {
   "cell_type": "code",
   "execution_count": 6,
   "id": "0830aff0-9117-4874-93a0-d690142fbd54",
   "metadata": {},
   "outputs": [],
   "source": [
    "select_box = driver.find_element(By.CSS_SELECTOR,\"#mainContent > div:nth-child(1) > section.relative.w-full.bg-accent-400.bg-center.py-10.text-white.md\\:bg-transparent.xl\\:py-16 > div.lg\\:my-18.container.relative.z-10.mx-auto > div > div.home-search-filter-form.min-h-115.sm\\:min-h-0 > div > form:nth-child(2) > div > div:nth-child(1) > div > select:nth-child(1)\")\n",
    "select_box.click()\n",
    "\n",
    "select_box.find_element(By.CSS_SELECTOR,\"#mainContent > div:nth-child(1) > section.relative.w-full.bg-accent-400.bg-center.py-10.text-white.md\\:bg-transparent.xl\\:py-16 > div.lg\\:my-18.container.relative.z-10.mx-auto > div > div.home-search-filter-form.min-h-115.sm\\:min-h-0 > div > form:nth-child(2) > div > div:nth-child(1) > div > select:nth-child(1) > option:nth-child(5)\").click()\n"
   ]
  },
  {
   "cell_type": "code",
   "execution_count": 7,
   "id": "bb0d7274-65e2-4adc-98a9-db2b0cbaeb31",
   "metadata": {},
   "outputs": [],
   "source": [
    "btn = driver.find_element(By.CSS_SELECTOR,\"#mainContent > div:nth-child(1) > section.relative.w-full.bg-accent-400.bg-center.py-10.text-white.md\\:bg-transparent.xl\\:py-16 > div.lg\\:my-18.container.relative.z-10.mx-auto > div > div.home-search-filter-form.min-h-115.sm\\:min-h-0 > div > form:nth-child(2) > div > div.mb-3.w-full.pr-3.md\\:mb-0.md\\:w-1\\/5.md\\:pr-0 > button\")\n",
    "btn.click()"
   ]
  },
  {
   "cell_type": "markdown",
   "id": "aed29fe4-0856-4bad-a276-9e4655fd02bb",
   "metadata": {},
   "source": [
    "### now we're at the desired page,we'll use bs4 to scrape data"
   ]
  },
  {
   "cell_type": "code",
   "execution_count": 9,
   "id": "c04d5b74-369a-40fd-971a-f3bb28406b42",
   "metadata": {},
   "outputs": [],
   "source": [
    "time.sleep(10)\n",
    "\n",
    "html = driver.page_source\n",
    "soup = BeautifulSoup(html, 'html.parser')"
   ]
  },
  {
   "cell_type": "code",
   "execution_count": 10,
   "id": "47532264-4497-451e-a323-8922a3412b2d",
   "metadata": {},
   "outputs": [],
   "source": [
    "name = soup.find_all('span',class_ = 'relative top-[2px] hidden md:inline')\n",
    "loc_dec = soup.find_all('a',class_ = 'capitalize text-grey-850 no-underline')\n",
    "imgUrls = soup.find_all('img',class_ = 'h-42 w-full object-cover')"
   ]
  },
  {
   "cell_type": "code",
   "execution_count": 11,
   "id": "6f820c8d-748d-4d39-bec3-734e3ebac55d",
   "metadata": {},
   "outputs": [],
   "source": [
    "Names = []\n",
    "for n in name:\n",
    "    Names.append(n.text.strip())"
   ]
  },
  {
   "cell_type": "code",
   "execution_count": 12,
   "id": "853d55d9-8b75-4465-b981-2acb53eedb22",
   "metadata": {},
   "outputs": [
    {
     "data": {
      "text/plain": [
       "['1 Bed Apartment with En Suite in Kilimani',\n",
       " '3 Bed Apartment with Backup Generator at Riverside Drive',\n",
       " '3 Bed Apartment with En Suite at Nyeri Road',\n",
       " '3 Bed Apartment with En Suite at Shanzu',\n",
       " '3 Bed Apartment with En Suite at Nyali',\n",
       " '2 Bed Apartment with En Suite in Nyali Area',\n",
       " '3 Bed Apartment with En Suite in Nyali Area',\n",
       " '3 Bed Apartment with En Suite in Lavington',\n",
       " 'Serviced 2 Bed Apartment with En Suite in Parklands',\n",
       " '1 Bed Apartment with Backup Generator in Riverside',\n",
       " '3 Bed Apartment with En Suite in Kileleshwa',\n",
       " '2 Bed Apartment with En Suite in Kilimani',\n",
       " '2 Bed Apartment with En Suite in Kileleshwa',\n",
       " '2 Bed Apartment with Swimming Pool in Westlands Area',\n",
       " 'Serviced 1 Bed Apartment with En Suite in Kitengela',\n",
       " '3 Bed Apartment with En Suite in Kileleshwa',\n",
       " 'Serviced 1 Bed Apartment with En Suite at Church Road',\n",
       " 'Serviced 1 Bed Apartment with En Suite in Bamburi']"
      ]
     },
     "execution_count": 12,
     "metadata": {},
     "output_type": "execute_result"
    }
   ],
   "source": [
    "Names"
   ]
  },
  {
   "cell_type": "code",
   "execution_count": 13,
   "id": "fe765928-b198-489e-a218-2ca317e9a092",
   "metadata": {},
   "outputs": [],
   "source": [
    "Location_description = list()\n",
    "for loc in loc_dec:\n",
    "    Location_description.append(loc.text.strip())"
   ]
  },
  {
   "cell_type": "code",
   "execution_count": 14,
   "id": "7b55aaef-cc27-47fa-8340-d29b3f1f7d5d",
   "metadata": {},
   "outputs": [
    {
     "data": {
      "text/plain": [
       "['Spacious Apartments For Sale',\n",
       " 'ELEGANT 2 & 3 BEDROOM APARTMENTS',\n",
       " '3 BEDROOM ALL ENSUITE FOR SALE',\n",
       " '3 bedroom sea view apartment on sale Shanzu Mom ...',\n",
       " '3 bedroom apartment beach side on going project ...',\n",
       " 'PEARL CITY APARTMENTS, NYALI',\n",
       " 'BEAUTIFUL BRAND NEW 3 BEDROOM APARTMENT FOR SAL ...',\n",
       " '3 Bedroom apartment + SQ for sale',\n",
       " 'Fully Furnished and serviced apartment for sale ...',\n",
       " 'One bedroom apartment at Riverside for sale',\n",
       " '3 bed + dsq',\n",
       " 'KILIMANI ZONE TWO BEDROOM APARTMENT(135SQM) FOR ...',\n",
       " '2 bedroom apartment for sale in Kileleshwa (Ken ...',\n",
       " 'Luxurious 2 & 3 Bedroom Apartments in Westlands ...',\n",
       " 'Affordable 1, 2 & 3 bedroom apartment for sale ...',\n",
       " '3 BEDROOM APARTMENT FOR SALE IN KILELESHWA',\n",
       " '1 & 2 bedroom apartments for sale in Westlands',\n",
       " '1, 2 & 3 bedroom apartment for sale in Mombasa ...']"
      ]
     },
     "execution_count": 14,
     "metadata": {},
     "output_type": "execute_result"
    }
   ],
   "source": [
    "Location_description"
   ]
  },
  {
   "cell_type": "code",
   "execution_count": 15,
   "id": "18dcb967-b81d-468e-a416-e9ea2511ecbf",
   "metadata": {},
   "outputs": [],
   "source": [
    "prices = soup.find_all('div',class_ = \"flex items-center justify-center text-xl font-bold leading-7 text-grey-900\")"
   ]
  },
  {
   "cell_type": "code",
   "execution_count": 26,
   "id": "a3ad000a-a26c-4043-9180-8eb3d6d0c968",
   "metadata": {},
   "outputs": [],
   "source": [
    "Prices = list()\n",
    "for price in prices:\n",
    "    Prices.append(price.text.strip())"
   ]
  },
  {
   "cell_type": "code",
   "execution_count": 27,
   "id": "531c0c17-cf37-48f7-b759-7e137a382d76",
   "metadata": {},
   "outputs": [
    {
     "data": {
      "text/plain": [
       "['KSh 6,800,000',\n",
       " 'KSh 6,800,000',\n",
       " 'KSh 31,000,000',\n",
       " 'KSh 31,000,000',\n",
       " 'KSh 12,800,000',\n",
       " 'KSh 12,800,000',\n",
       " 'KSh 17,000,000',\n",
       " 'KSh 17,000,000',\n",
       " 'KSh 40,000,000',\n",
       " 'KSh 40,000,000',\n",
       " 'KSh 7,750,000',\n",
       " 'KSh 7,750,000',\n",
       " 'KSh 16,000,000',\n",
       " 'KSh 16,000,000',\n",
       " 'KSh 21,000,000',\n",
       " 'KSh 21,000,000',\n",
       " 'KSh 13,000,000',\n",
       " 'KSh 13,000,000',\n",
       " 'KSh 6,000,000',\n",
       " 'KSh 6,000,000',\n",
       " 'KSh 19,000,000',\n",
       " 'KSh 19,000,000',\n",
       " 'KSh 11,500,000',\n",
       " 'KSh 11,500,000',\n",
       " 'KSh 13,800,000',\n",
       " 'KSh 13,800,000',\n",
       " 'KSh 18,800,000',\n",
       " 'KSh 18,800,000',\n",
       " 'KSh 2,750,000',\n",
       " 'KSh 2,750,000',\n",
       " 'KSh 11,000,000',\n",
       " 'KSh 11,000,000',\n",
       " 'KSh 6,500,000',\n",
       " 'KSh 6,500,000',\n",
       " 'KSh 2,350,000',\n",
       " 'KSh 2,350,000']"
      ]
     },
     "execution_count": 27,
     "metadata": {},
     "output_type": "execute_result"
    }
   ],
   "source": [
    "Prices"
   ]
  },
  {
   "cell_type": "code",
   "execution_count": 18,
   "id": "e7c371ba-8b4c-4a4b-b72f-6013e765d1f3",
   "metadata": {},
   "outputs": [
    {
     "data": {
      "text/plain": [
       "36"
      ]
     },
     "execution_count": 18,
     "metadata": {},
     "output_type": "execute_result"
    }
   ],
   "source": [
    "len(Prices)"
   ]
  },
  {
   "cell_type": "code",
   "execution_count": 19,
   "id": "bd8ff3e6-bfb0-49f2-8f6c-0bf9471a7e0d",
   "metadata": {},
   "outputs": [],
   "source": [
    "House_prices = [Prices[i] for i in range(0,36,2)]"
   ]
  },
  {
   "cell_type": "code",
   "execution_count": 20,
   "id": "f2d8ec9c-c6e1-48d6-9cee-f03610356f81",
   "metadata": {},
   "outputs": [
    {
     "data": {
      "text/plain": [
       "['KSh 6,800,000',\n",
       " 'KSh 31,000,000',\n",
       " 'KSh 12,800,000',\n",
       " 'KSh 17,000,000',\n",
       " 'KSh 40,000,000',\n",
       " 'KSh 7,750,000',\n",
       " 'KSh 16,000,000',\n",
       " 'KSh 21,000,000',\n",
       " 'KSh 13,000,000',\n",
       " 'KSh 6,000,000',\n",
       " 'KSh 19,000,000',\n",
       " 'KSh 11,500,000',\n",
       " 'KSh 13,800,000',\n",
       " 'KSh 18,800,000',\n",
       " 'KSh 2,750,000',\n",
       " 'KSh 11,000,000',\n",
       " 'KSh 6,500,000',\n",
       " 'KSh 2,350,000']"
      ]
     },
     "execution_count": 20,
     "metadata": {},
     "output_type": "execute_result"
    }
   ],
   "source": [
    "House_prices"
   ]
  },
  {
   "cell_type": "code",
   "execution_count": 21,
   "id": "63156604-7acc-4656-b1f4-dcefe2d10290",
   "metadata": {},
   "outputs": [],
   "source": [
    "next_btn = driver.find_element(By.CSS_SELECTOR,\"#mainContent > div:nth-child(1) > div.container.mx-auto.md\\:px-0 > div > div.mt-4.flex-auto.overflow-hidden.md\\:mt-7 > div.flex-no-wrap.flex.flex-grow-0 > div > div.flex-grow-0 > div > div.mb-5 > div > div > div > a\")"
   ]
  },
  {
   "cell_type": "code",
   "execution_count": 24,
   "id": "16f80456-599c-4edf-96b7-9f928eb700f0",
   "metadata": {},
   "outputs": [],
   "source": [
    "URL = []\n",
    "for img in imgUrls:\n",
    "    URL.append(img['src'])"
   ]
  },
  {
   "cell_type": "code",
   "execution_count": 25,
   "id": "1d625d10-ae38-4220-bd38-7fbbf22a820b",
   "metadata": {},
   "outputs": [
    {
     "data": {
      "text/plain": [
       "['https://i.roamcdn.net/prop/brk/listing-thumb-376w/b7961d26f89a22649244ce4aefda4a3a/-/prod-property-core-backend-media-brk/6300720/bb56359c-f8b0-45ff-a52e-3198f1c59d2b.jpg',\n",
       " 'https://i.roamcdn.net/prop/brk/listing-thumb-376w/08a6a4e6199381e5fce85f9ebbda125e/-/prod-property-core-backend-media-brk/6084447/6a5e1f27-7d33-415b-b498-2bba6319155d.jpg',\n",
       " 'https://i.roamcdn.net/prop/brk/listing-thumb-376w/46f3309fee90437677685a8268af8525/-/prod-property-core-backend-media-brk/6533874/fc573f6a-217e-4c71-94b9-3719b699f3ab.jpeg',\n",
       " 'https://i.roamcdn.net/prop/brk/listing-thumb-376w/59b50577657570b3fa98d3e9672e6297/-/prod-property-core-backend-media-brk/6317627/988eaa5f-1721-48a9-b80f-4867f597f1b2.JPG',\n",
       " 'https://i.roamcdn.net/prop/brk/listing-thumb-376w/b2c350dd6cec710741a3a64c605c984f/-/prod-property-core-backend-media-brk/6411562/c7abef0b-ca75-4759-9bac-a0497f94af16.jpg',\n",
       " 'https://i.roamcdn.net/prop/brk/listing-thumb-376w/7675ed05266ed3783f3426bf525a9b9e/-/prod-property-core-backend-media-brk/6693321/bbab804f-34b6-4c34-a0d6-f52e49957778.jpg',\n",
       " 'https://i.roamcdn.net/prop/brk/listing-thumb-376w/69df16bc400cfe5979608395c0ca7401/-/prod-property-core-backend-media-brk/6693269/5398bb5b-d1f5-44f6-a226-9b388b14e531.jpg',\n",
       " 'https://i.roamcdn.net/prop/brk/listing-thumb-376w/31eb0881663f90539edd4d8b938d15f7/-/prod-property-core-backend-media-brk/6693157/bd75c17b-5930-4a7b-80c5-e85e709a8364.jpeg',\n",
       " 'https://i.roamcdn.net/prop/brk/listing-thumb-376w/94dcc424d5923aca3a46f9375bdc5818/-/prod-property-core-backend-media-brk/6693079/fa79f096-5e38-41e7-9423-faed7ba1d8f1.jpg',\n",
       " 'https://i.roamcdn.net/prop/brk/listing-thumb-376w/4f23eafdf6a2bdc948b498431365b6ec/-/prod-property-core-backend-media-brk/6693077/eae230ff-db55-4080-ac44-413f8e1d4d91.jpg',\n",
       " 'https://i.roamcdn.net/prop/brk/listing-thumb-376w/0d88d23afb40cf97287d8024bfe8a1e0/-/prod-property-core-backend-media-brk/6693008/efed0f98-f952-419b-bc0a-117ddce61ba9.jpg',\n",
       " 'https://i.roamcdn.net/prop/brk/listing-thumb-376w/9c0b56960b799333c8cc969ed22324d6/-/prod-property-core-backend-media-brk/6692946/27d70c5b-d049-4bd3-9aa0-a4b6628571d1.jpeg',\n",
       " 'https://i.roamcdn.net/prop/brk/listing-thumb-376w/f9e30642c3493759f2d0668cf55d2437/-/prod-property-core-backend-media-brk/6692877/b4562972-fe47-43db-a38d-b3dbd54b2cfd.jpg',\n",
       " 'https://i.roamcdn.net/prop/brk/listing-thumb-376w/3f95666d5012cbca2cd09af16ad23d73/-/prod-property-core-backend-media-brk/6692810/2d839846-ebf3-4660-a8a5-b6e307bab048.jpg',\n",
       " 'https://i.roamcdn.net/prop/brk/listing-thumb-376w/0d08826f81ad79472fd6b43d79701eb4/-/prod-property-core-backend-media-brk/6692334/7b976d0f-bd04-4e8e-818d-f17e74d50622.jpeg',\n",
       " 'https://i.roamcdn.net/prop/brk/listing-thumb-376w/cf9a28528fda2314c103d42944b45188/-/prod-property-core-backend-media-brk/6692305/dd869278-b524-4fff-948b-6a566bfb6374.jpg',\n",
       " 'https://i.roamcdn.net/prop/brk/listing-thumb-376w/68e3c15a92d17dce031a94a326eb869e/-/prod-property-core-backend-media-brk/6692219/b0639c40-3905-435f-8bd6-00f2511e1c60.jpeg',\n",
       " 'https://i.roamcdn.net/prop/brk/listing-thumb-376w/b852a767001e6e76164c32beb74ef68d/-/prod-property-core-backend-media-brk/6691998/280a6daa-aecb-4e4e-a916-a40ff3bd9237.jpeg']"
      ]
     },
     "execution_count": 25,
     "metadata": {},
     "output_type": "execute_result"
    }
   ],
   "source": [
    "URL"
   ]
  },
  {
   "cell_type": "markdown",
   "id": "c00573bb-a60f-40a6-bbc7-cf73454a2809",
   "metadata": {},
   "source": [
    "### stop the driver,since we do not need any interaction with the website"
   ]
  },
  {
   "cell_type": "code",
   "execution_count": 41,
   "id": "0a1a1fb8-6e7f-49e6-b4c8-6ea68e706623",
   "metadata": {},
   "outputs": [],
   "source": [
    "driver.quit()"
   ]
  },
  {
   "cell_type": "markdown",
   "id": "a057d217-44e6-4094-b00b-4272ee2b2b3e",
   "metadata": {},
   "source": [
    "### we repeate the process above for the next 50 pages\n"
   ]
  },
  {
   "cell_type": "code",
   "execution_count": 37,
   "id": "974dcf43-4cb4-4ee8-89cb-d1676edc1fa0",
   "metadata": {
    "scrolled": true
   },
   "outputs": [],
   "source": [
    "import requests"
   ]
  },
  {
   "cell_type": "code",
   "execution_count": 48,
   "id": "3f8ed534-f25c-4cef-8fbd-2247bf1561e3",
   "metadata": {},
   "outputs": [],
   "source": [
    "house_name = []\n",
    "locat = []\n",
    "urls = []\n",
    "hs_price = []"
   ]
  },
  {
   "cell_type": "code",
   "execution_count": 49,
   "id": "98d368c5-0532-4deb-abc5-8d7753026da4",
   "metadata": {},
   "outputs": [],
   "source": [
    "for i in range(2,53):\n",
    "    \n",
    "    html = requests.get(f\"https://www.buyrentkenya.com/property-for-sale?page={i}\").text\n",
    "    soup = BeautifulSoup(html, 'html.parser')\n",
    "    time.sleep(5)\n",
    "    name_ = soup.find_all('span',class_ = 'relative top-[2px] hidden md:inline')\n",
    "    loc_dec_ = soup.find_all('a',class_ = 'capitalize text-grey-850 no-underline')\n",
    "    imgUrls_ = soup.find_all('img',class_ = 'h-42 w-full object-cover')\n",
    "    prices_ = soup.find_all('div',class_ = \"flex items-center justify-center text-xl font-bold leading-7 text-grey-900\")\n",
    "\n",
    "    for nm in name_:\n",
    "        house_name.append(nm.text.strip())\n",
    "\n",
    "    for lo in loc_dec_:\n",
    "        locat.append(lo.text.strip())\n",
    "\n",
    "    for im in imgUrls_:\n",
    "        urls.append(im['src'])\n",
    "\n",
    "    for pr in prices_:\n",
    "        hs_price.append(pr.text.strip())"
   ]
  },
  {
   "cell_type": "code",
   "execution_count": 51,
   "id": "5bcab772-57b7-4550-b80c-490d2ea11e7b",
   "metadata": {},
   "outputs": [
    {
     "name": "stdout",
     "output_type": "stream",
     "text": [
      "len of location; 918\n",
      "==========\n",
      "len of name; 918\n",
      "==========\n",
      "len of urls; 902\n",
      "==========\n",
      "len of prices; 1822\n"
     ]
    }
   ],
   "source": [
    "print(f\"len of location; {len(locat)}\")\n",
    "print('='*10)\n",
    "print(f\"len of name; {len(house_name)}\")\n",
    "print('='*10)\n",
    "print(f\"len of urls; {len(urls)}\")\n",
    "print('='*10)\n",
    "print(f\"len of prices; {len(hs_price)}\")"
   ]
  },
  {
   "cell_type": "code",
   "execution_count": 52,
   "id": "7207841d-00ca-4ae4-b592-ce36a7249247",
   "metadata": {},
   "outputs": [],
   "source": [
    "Hs_price = [hs_price[i] for i in range(0,1822,2)]"
   ]
  },
  {
   "cell_type": "code",
   "execution_count": 53,
   "id": "a8412bdc-100e-4207-8c84-1eaac5663446",
   "metadata": {},
   "outputs": [
    {
     "data": {
      "text/plain": [
       "911"
      ]
     },
     "execution_count": 53,
     "metadata": {},
     "output_type": "execute_result"
    }
   ],
   "source": [
    "len(Hs_price)"
   ]
  },
  {
   "cell_type": "markdown",
   "id": "8540c2b0-d5bc-412e-9ac9-548b70a60b8b",
   "metadata": {},
   "source": [
    "### concatenating the lists with the lists on the first page\n"
   ]
  },
  {
   "cell_type": "code",
   "execution_count": 54,
   "id": "946328d1-9823-4815-9104-a66dee7449da",
   "metadata": {},
   "outputs": [
    {
     "name": "stdout",
     "output_type": "stream",
     "text": [
      "Final len of names; 936\n",
      "===============\n",
      "Final len of location; 936\n",
      "===============\n",
      "Final len of prices; 929\n",
      "===============\n",
      "Final len of urls; 920\n"
     ]
    }
   ],
   "source": [
    "Names.extend(house_name)\n",
    "Location_description.extend(locat)\n",
    "House_prices.extend(Hs_price)\n",
    "URL.extend(urls)\n",
    "\n",
    "print(f\"Final len of names; {len(Names)}\")\n",
    "print('='*15)\n",
    "print(f\"Final len of location; {len(Location_description)}\")\n",
    "print('='*15)\n",
    "print(f\"Final len of prices; {len(House_prices)}\")\n",
    "print('='*15)\n",
    "print(f\"Final len of urls; {len(URL)}\")"
   ]
  },
  {
   "cell_type": "code",
   "execution_count": 55,
   "id": "03c76705-51fd-4b40-aae2-3197ba7e4606",
   "metadata": {},
   "outputs": [],
   "source": [
    "import numpy as np"
   ]
  },
  {
   "cell_type": "markdown",
   "id": "e2b768af-eb16-4085-96a0-c34daaf99055",
   "metadata": {},
   "source": [
    "### creating a dataframe\n"
   ]
  },
  {
   "cell_type": "code",
   "execution_count": 56,
   "id": "64baf11a-d5ec-48b5-8c0b-1f07846387cc",
   "metadata": {},
   "outputs": [
    {
     "data": {
      "text/html": [
       "<div>\n",
       "<style scoped>\n",
       "    .dataframe tbody tr th:only-of-type {\n",
       "        vertical-align: middle;\n",
       "    }\n",
       "\n",
       "    .dataframe tbody tr th {\n",
       "        vertical-align: top;\n",
       "    }\n",
       "\n",
       "    .dataframe thead th {\n",
       "        text-align: right;\n",
       "    }\n",
       "</style>\n",
       "<table border=\"1\" class=\"dataframe\">\n",
       "  <thead>\n",
       "    <tr style=\"text-align: right;\">\n",
       "      <th></th>\n",
       "      <th>House Name</th>\n",
       "      <th>Location</th>\n",
       "      <th>ImgURL</th>\n",
       "      <th>Price</th>\n",
       "    </tr>\n",
       "  </thead>\n",
       "  <tbody>\n",
       "    <tr>\n",
       "      <th>0</th>\n",
       "      <td>1 Bed Apartment with En Suite in Kilimani</td>\n",
       "      <td>Spacious Apartments For Sale</td>\n",
       "      <td>https://i.roamcdn.net/prop/brk/listing-thumb-3...</td>\n",
       "      <td>KSh 6,800,000</td>\n",
       "    </tr>\n",
       "    <tr>\n",
       "      <th>1</th>\n",
       "      <td>3 Bed Apartment with Backup Generator at River...</td>\n",
       "      <td>ELEGANT 2 &amp; 3 BEDROOM APARTMENTS</td>\n",
       "      <td>https://i.roamcdn.net/prop/brk/listing-thumb-3...</td>\n",
       "      <td>KSh 31,000,000</td>\n",
       "    </tr>\n",
       "    <tr>\n",
       "      <th>2</th>\n",
       "      <td>3 Bed Apartment with En Suite at Nyeri Road</td>\n",
       "      <td>3 BEDROOM ALL ENSUITE FOR SALE</td>\n",
       "      <td>https://i.roamcdn.net/prop/brk/listing-thumb-3...</td>\n",
       "      <td>KSh 12,800,000</td>\n",
       "    </tr>\n",
       "    <tr>\n",
       "      <th>3</th>\n",
       "      <td>3 Bed Apartment with En Suite at Shanzu</td>\n",
       "      <td>3 bedroom sea view apartment on sale Shanzu Mo...</td>\n",
       "      <td>https://i.roamcdn.net/prop/brk/listing-thumb-3...</td>\n",
       "      <td>KSh 17,000,000</td>\n",
       "    </tr>\n",
       "    <tr>\n",
       "      <th>4</th>\n",
       "      <td>3 Bed Apartment with En Suite at Nyali</td>\n",
       "      <td>3 bedroom apartment beach side on going projec...</td>\n",
       "      <td>https://i.roamcdn.net/prop/brk/listing-thumb-3...</td>\n",
       "      <td>KSh 40,000,000</td>\n",
       "    </tr>\n",
       "  </tbody>\n",
       "</table>\n",
       "</div>"
      ],
      "text/plain": [
       "                                          House Name  \\\n",
       "0          1 Bed Apartment with En Suite in Kilimani   \n",
       "1  3 Bed Apartment with Backup Generator at River...   \n",
       "2        3 Bed Apartment with En Suite at Nyeri Road   \n",
       "3            3 Bed Apartment with En Suite at Shanzu   \n",
       "4             3 Bed Apartment with En Suite at Nyali   \n",
       "\n",
       "                                            Location  \\\n",
       "0                       Spacious Apartments For Sale   \n",
       "1                   ELEGANT 2 & 3 BEDROOM APARTMENTS   \n",
       "2                     3 BEDROOM ALL ENSUITE FOR SALE   \n",
       "3  3 bedroom sea view apartment on sale Shanzu Mo...   \n",
       "4  3 bedroom apartment beach side on going projec...   \n",
       "\n",
       "                                              ImgURL           Price  \n",
       "0  https://i.roamcdn.net/prop/brk/listing-thumb-3...   KSh 6,800,000  \n",
       "1  https://i.roamcdn.net/prop/brk/listing-thumb-3...  KSh 31,000,000  \n",
       "2  https://i.roamcdn.net/prop/brk/listing-thumb-3...  KSh 12,800,000  \n",
       "3  https://i.roamcdn.net/prop/brk/listing-thumb-3...  KSh 17,000,000  \n",
       "4  https://i.roamcdn.net/prop/brk/listing-thumb-3...  KSh 40,000,000  "
      ]
     },
     "execution_count": 56,
     "metadata": {},
     "output_type": "execute_result"
    }
   ],
   "source": [
    "max_length = len(Names)\n",
    "House_prices.extend([np.nan] * (max_length - len(House_prices)))\n",
    "URL.extend([np.nan] * (max_length - len(URL)))\n",
    "\n",
    "df = pd.DataFrame({\n",
    "    \"House Name\": Names,\n",
    "    \"Location\": Location_description,\n",
    "    \"ImgURL\": URL,\n",
    "    \"Price\": House_prices\n",
    "})\n",
    "df.head()"
   ]
  },
  {
   "cell_type": "code",
   "execution_count": 57,
   "id": "5131e1a9-b574-481d-a98a-29913ef1614b",
   "metadata": {},
   "outputs": [
    {
     "data": {
      "text/plain": [
       "(936, 4)"
      ]
     },
     "execution_count": 57,
     "metadata": {},
     "output_type": "execute_result"
    }
   ],
   "source": [
    "df.shape"
   ]
  },
  {
   "cell_type": "markdown",
   "id": "ba752668-c9b8-4021-9114-8d069b780c5d",
   "metadata": {},
   "source": [
    "### Saving the data"
   ]
  },
  {
   "cell_type": "code",
   "execution_count": 58,
   "id": "7caedd03-f6d5-4e94-8556-7285e52ba047",
   "metadata": {},
   "outputs": [],
   "source": [
    "df.to_csv('Realestates.csv')"
   ]
  },
  {
   "cell_type": "code",
   "execution_count": null,
   "id": "4376bde1-50fa-43d3-b288-2d370d5bea7d",
   "metadata": {},
   "outputs": [],
   "source": []
  }
 ],
 "metadata": {
  "kernelspec": {
   "display_name": "deepgpu",
   "language": "python",
   "name": "deepgpu"
  },
  "language_info": {
   "codemirror_mode": {
    "name": "ipython",
    "version": 3
   },
   "file_extension": ".py",
   "mimetype": "text/x-python",
   "name": "python",
   "nbconvert_exporter": "python",
   "pygments_lexer": "ipython3",
   "version": "3.10.14"
  }
 },
 "nbformat": 4,
 "nbformat_minor": 5
}
